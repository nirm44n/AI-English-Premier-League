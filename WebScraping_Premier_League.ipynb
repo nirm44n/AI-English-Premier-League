{
  "nbformat": 4,
  "nbformat_minor": 0,
  "metadata": {
    "colab": {
      "provenance": [],
      "authorship_tag": "ABX9TyMB7mKq66hgb7i+0zQRXkZZ"
    },
    "kernelspec": {
      "name": "python3",
      "display_name": "Python 3"
    },
    "language_info": {
      "name": "python"
    }
  },
  "cells": [
    {
      "cell_type": "code",
      "execution_count": null,
      "metadata": {
        "id": "AhQELh1oPCD7"
      },
      "outputs": [],
      "source": [
        "years = list(range(2022, 1996, -1))\n",
        "all_matches = []\n",
        "import time\n",
        "import requests\n",
        "from bs4 import BeautifulSoup\n",
        "import pandas as pd\n",
        "\n",
        "\n",
        "standings_url = \"https://fbref.com/en/comps/9/Premier-League-Stats\"\n",
        "for year in years:\n",
        "    data = requests.get(standings_url)\n",
        "    soup = BeautifulSoup(data.text)\n",
        "    standings_table = soup.select('table.stats_table')[0]\n",
        "\n",
        "    links = [l.get(\"href\") for l in standings_table.find_all(\"a\")]\n",
        "    links = [l for l in links if '/squads/' in l]\n",
        "    team_urls = [f\"https://fbref.com{l}\" for l in links]\n",
        "\n",
        "    previous_season = soup.select(\"a.prev\")[0].get(\"href\")\n",
        "    standings_url = f\"https://fbref.com{previous_season}\"\n",
        "\n",
        "    for team_url in team_urls:\n",
        "        team_name = team_url.split(\"/\")[-1].replace(\"-Stats\", \"\").replace(\"-\", \" \")\n",
        "        data = requests.get(team_url)\n",
        "        matches = pd.read_html(data.text, match=\"Scores & Fixtures\")[0]\n",
        "        soup = BeautifulSoup(data.text)\n",
        "        links = [l.get(\"href\") for l in soup.find_all('a')]\n",
        "        links = [l for l in links if l and 'all_comps/shooting/' in l]\n",
        "        data = requests.get(f\"https://fbref.com{links[0]}\")\n",
        "        shooting = pd.read_html(data.text, match=\"Shooting\")[0]\n",
        "        shooting.columns = shooting.columns.droplevel()\n",
        "        try:\n",
        "            team_data = matches.merge(shooting[[\"Date\", \"Sh\", \"SoT\", \"Dist\", \"FK\", \"PK\", \"PKatt\"]], on=\"Date\")\n",
        "        except ValueError:\n",
        "            continue\n",
        "        team_data = team_data[team_data[\"Comp\"] == \"Premier League\"]\n",
        "\n",
        "        team_data[\"Season\"] = year\n",
        "        team_data[\"Team\"] = team_name\n",
        "        all_matches.append(team_data)\n",
        "        time.sleep(10)"
      ]
    },
    {
      "cell_type": "code",
      "source": [
        "all_matches"
      ],
      "metadata": {
        "id": "ZllXbUqwPEF4"
      },
      "execution_count": null,
      "outputs": []
    },
    {
      "cell_type": "code",
      "source": [
        "from google.colab import drive\n",
        "drive.mount('/content/drive')"
      ],
      "metadata": {
        "id": "EqYA6vlnyF2H"
      },
      "execution_count": null,
      "outputs": []
    },
    {
      "cell_type": "code",
      "source": [
        "match_df = pd.concat(all_matches)\n",
        "match_df.columns = [c.lower() for c in match_df.columns]\n",
        "match_df.to_csv(\"matches.csv\")"
      ],
      "metadata": {
        "id": "aXWGmRZRUKB4"
      },
      "execution_count": null,
      "outputs": []
    },
    {
      "cell_type": "code",
      "source": [
        "match_df"
      ],
      "metadata": {
        "id": "uT22HuenVkrj"
      },
      "execution_count": null,
      "outputs": []
    },
    {
      "cell_type": "code",
      "source": [
        "matches = pd.read_csv(\"matches.csv\", index_col = 0)"
      ],
      "metadata": {
        "id": "DJ0wNqBvWWpZ"
      },
      "execution_count": null,
      "outputs": []
    },
    {
      "cell_type": "code",
      "source": [
        "import time\n",
        "import requests\n",
        "from bs4 import BeautifulSoup\n",
        "import pandas as pd"
      ],
      "metadata": {
        "id": "NyZc2-jOxi3Z"
      },
      "execution_count": null,
      "outputs": []
    },
    {
      "cell_type": "code",
      "source": [
        "ls"
      ],
      "metadata": {
        "id": "Kd4kSvDcxpS5"
      },
      "execution_count": null,
      "outputs": []
    },
    {
      "cell_type": "code",
      "source": [
        "pwd"
      ],
      "metadata": {
        "id": "509nvRlszO-B"
      },
      "execution_count": null,
      "outputs": []
    },
    {
      "cell_type": "code",
      "source": [
        "cd .."
      ],
      "metadata": {
        "id": "yAYAAFe0zQQC"
      },
      "execution_count": null,
      "outputs": []
    },
    {
      "cell_type": "code",
      "source": [
        "ls"
      ],
      "metadata": {
        "id": "CylpoK2szT1B"
      },
      "execution_count": null,
      "outputs": []
    },
    {
      "cell_type": "code",
      "source": [
        "cd home"
      ],
      "metadata": {
        "id": "Dep448kSzUX_"
      },
      "execution_count": null,
      "outputs": []
    },
    {
      "cell_type": "code",
      "source": [
        "ls"
      ],
      "metadata": {
        "id": "s51NXAbizV1B"
      },
      "execution_count": null,
      "outputs": []
    },
    {
      "cell_type": "code",
      "source": [
        "matches = pd.read_csv(\"matches (1).csv\", index_col = 0)"
      ],
      "metadata": {
        "id": "MI1w4Mi1zcLR"
      },
      "execution_count": null,
      "outputs": []
    },
    {
      "cell_type": "code",
      "source": [
        "matches.shape"
      ],
      "metadata": {
        "id": "ER--It_Nzj8p"
      },
      "execution_count": null,
      "outputs": []
    },
    {
      "cell_type": "code",
      "source": [
        "matches[\"team\"].value_counts()"
      ],
      "metadata": {
        "id": "5IzggWGyznQy"
      },
      "execution_count": null,
      "outputs": []
    },
    {
      "cell_type": "code",
      "source": [
        "matches[matches[\"team\"] == \"Chelsea\"]"
      ],
      "metadata": {
        "id": "wAvOqi_Vztus"
      },
      "execution_count": null,
      "outputs": []
    },
    {
      "cell_type": "code",
      "source": [
        "matches.dtypes"
      ],
      "metadata": {
        "id": "8LPvHRQBz4hh"
      },
      "execution_count": null,
      "outputs": []
    },
    {
      "cell_type": "code",
      "source": [
        "matches[\"date\"] = pd.to_datetime(matches[\"date\"])"
      ],
      "metadata": {
        "id": "2YTTvePJz8SE"
      },
      "execution_count": null,
      "outputs": []
    },
    {
      "cell_type": "code",
      "source": [
        "matches[\"venue_code\"] = matches[\"venue\"].astype(\"category\").cat.codes"
      ],
      "metadata": {
        "id": "CDT_5xjL0DKt"
      },
      "execution_count": null,
      "outputs": []
    },
    {
      "cell_type": "code",
      "source": [
        "matches[\"opp_code\"] = matches[\"opponent\"].astype(\"category\").cat.codes"
      ],
      "metadata": {
        "id": "mqxmONFx0Tys"
      },
      "execution_count": null,
      "outputs": []
    },
    {
      "cell_type": "code",
      "source": [
        "matches[\"hour\"] = matches[\"time\"].str.replace(\":.+\", \"\", regex =True).astype(\"int\")"
      ],
      "metadata": {
        "id": "kS67ZE-z0dC2"
      },
      "execution_count": null,
      "outputs": []
    },
    {
      "cell_type": "code",
      "source": [
        "matches[\"day_code\"] = matches[\"date\"].dt.dayofweek"
      ],
      "metadata": {
        "id": "DqBPfLG30sXW"
      },
      "execution_count": null,
      "outputs": []
    },
    {
      "cell_type": "code",
      "source": [
        "matches[\"target\"] = (matches[\"result\"] == \"W\").astype(\"int\")"
      ],
      "metadata": {
        "id": "q8zz-ySI02DT"
      },
      "execution_count": null,
      "outputs": []
    },
    {
      "cell_type": "code",
      "source": [
        "from sklearn.ensemble import RandomForestClassifier"
      ],
      "metadata": {
        "id": "-KkHQfao1AiE"
      },
      "execution_count": null,
      "outputs": []
    },
    {
      "cell_type": "code",
      "source": [
        "rf = RandomForestClassifier(n_estimators=50, min_samples_split=10, random_state=1)"
      ],
      "metadata": {
        "id": "ottTmhyP1O_w"
      },
      "execution_count": null,
      "outputs": []
    },
    {
      "cell_type": "code",
      "source": [
        "train = matches[matches[\"date\"] < '2022-01-01']"
      ],
      "metadata": {
        "id": "cbNWuYjE1qp7"
      },
      "execution_count": null,
      "outputs": []
    },
    {
      "cell_type": "code",
      "source": [
        "test = matches[matches[\"date\"] > '2022-01-01']"
      ],
      "metadata": {
        "id": "q2_jyLY01xx3"
      },
      "execution_count": null,
      "outputs": []
    },
    {
      "cell_type": "code",
      "source": [
        "predictors = [\"venue_code\", \"opp_code\", \"hour\", \"day_code\"]"
      ],
      "metadata": {
        "id": "5cPJArux2AyN"
      },
      "execution_count": null,
      "outputs": []
    },
    {
      "cell_type": "code",
      "source": [
        "rf.fit(train[predictors], train[\"target\"])"
      ],
      "metadata": {
        "colab": {
          "base_uri": "https://localhost:8080/",
          "height": 75
        },
        "id": "XSmHCzIb2GUm",
        "outputId": "9d66e380-c2a2-409b-e1df-c8041260fa6c"
      },
      "execution_count": null,
      "outputs": [
        {
          "output_type": "execute_result",
          "data": {
            "text/plain": [
              "RandomForestClassifier(min_samples_split=10, n_estimators=50, random_state=1)"
            ],
            "text/html": [
              "<style>#sk-container-id-1 {color: black;background-color: white;}#sk-container-id-1 pre{padding: 0;}#sk-container-id-1 div.sk-toggleable {background-color: white;}#sk-container-id-1 label.sk-toggleable__label {cursor: pointer;display: block;width: 100%;margin-bottom: 0;padding: 0.3em;box-sizing: border-box;text-align: center;}#sk-container-id-1 label.sk-toggleable__label-arrow:before {content: \"▸\";float: left;margin-right: 0.25em;color: #696969;}#sk-container-id-1 label.sk-toggleable__label-arrow:hover:before {color: black;}#sk-container-id-1 div.sk-estimator:hover label.sk-toggleable__label-arrow:before {color: black;}#sk-container-id-1 div.sk-toggleable__content {max-height: 0;max-width: 0;overflow: hidden;text-align: left;background-color: #f0f8ff;}#sk-container-id-1 div.sk-toggleable__content pre {margin: 0.2em;color: black;border-radius: 0.25em;background-color: #f0f8ff;}#sk-container-id-1 input.sk-toggleable__control:checked~div.sk-toggleable__content {max-height: 200px;max-width: 100%;overflow: auto;}#sk-container-id-1 input.sk-toggleable__control:checked~label.sk-toggleable__label-arrow:before {content: \"▾\";}#sk-container-id-1 div.sk-estimator input.sk-toggleable__control:checked~label.sk-toggleable__label {background-color: #d4ebff;}#sk-container-id-1 div.sk-label input.sk-toggleable__control:checked~label.sk-toggleable__label {background-color: #d4ebff;}#sk-container-id-1 input.sk-hidden--visually {border: 0;clip: rect(1px 1px 1px 1px);clip: rect(1px, 1px, 1px, 1px);height: 1px;margin: -1px;overflow: hidden;padding: 0;position: absolute;width: 1px;}#sk-container-id-1 div.sk-estimator {font-family: monospace;background-color: #f0f8ff;border: 1px dotted black;border-radius: 0.25em;box-sizing: border-box;margin-bottom: 0.5em;}#sk-container-id-1 div.sk-estimator:hover {background-color: #d4ebff;}#sk-container-id-1 div.sk-parallel-item::after {content: \"\";width: 100%;border-bottom: 1px solid gray;flex-grow: 1;}#sk-container-id-1 div.sk-label:hover label.sk-toggleable__label {background-color: #d4ebff;}#sk-container-id-1 div.sk-serial::before {content: \"\";position: absolute;border-left: 1px solid gray;box-sizing: border-box;top: 0;bottom: 0;left: 50%;z-index: 0;}#sk-container-id-1 div.sk-serial {display: flex;flex-direction: column;align-items: center;background-color: white;padding-right: 0.2em;padding-left: 0.2em;position: relative;}#sk-container-id-1 div.sk-item {position: relative;z-index: 1;}#sk-container-id-1 div.sk-parallel {display: flex;align-items: stretch;justify-content: center;background-color: white;position: relative;}#sk-container-id-1 div.sk-item::before, #sk-container-id-1 div.sk-parallel-item::before {content: \"\";position: absolute;border-left: 1px solid gray;box-sizing: border-box;top: 0;bottom: 0;left: 50%;z-index: -1;}#sk-container-id-1 div.sk-parallel-item {display: flex;flex-direction: column;z-index: 1;position: relative;background-color: white;}#sk-container-id-1 div.sk-parallel-item:first-child::after {align-self: flex-end;width: 50%;}#sk-container-id-1 div.sk-parallel-item:last-child::after {align-self: flex-start;width: 50%;}#sk-container-id-1 div.sk-parallel-item:only-child::after {width: 0;}#sk-container-id-1 div.sk-dashed-wrapped {border: 1px dashed gray;margin: 0 0.4em 0.5em 0.4em;box-sizing: border-box;padding-bottom: 0.4em;background-color: white;}#sk-container-id-1 div.sk-label label {font-family: monospace;font-weight: bold;display: inline-block;line-height: 1.2em;}#sk-container-id-1 div.sk-label-container {text-align: center;}#sk-container-id-1 div.sk-container {/* jupyter's `normalize.less` sets `[hidden] { display: none; }` but bootstrap.min.css set `[hidden] { display: none !important; }` so we also need the `!important` here to be able to override the default hidden behavior on the sphinx rendered scikit-learn.org. See: https://github.com/scikit-learn/scikit-learn/issues/21755 */display: inline-block !important;position: relative;}#sk-container-id-1 div.sk-text-repr-fallback {display: none;}</style><div id=\"sk-container-id-1\" class=\"sk-top-container\"><div class=\"sk-text-repr-fallback\"><pre>RandomForestClassifier(min_samples_split=10, n_estimators=50, random_state=1)</pre><b>In a Jupyter environment, please rerun this cell to show the HTML representation or trust the notebook. <br />On GitHub, the HTML representation is unable to render, please try loading this page with nbviewer.org.</b></div><div class=\"sk-container\" hidden><div class=\"sk-item\"><div class=\"sk-estimator sk-toggleable\"><input class=\"sk-toggleable__control sk-hidden--visually\" id=\"sk-estimator-id-1\" type=\"checkbox\" checked><label for=\"sk-estimator-id-1\" class=\"sk-toggleable__label sk-toggleable__label-arrow\">RandomForestClassifier</label><div class=\"sk-toggleable__content\"><pre>RandomForestClassifier(min_samples_split=10, n_estimators=50, random_state=1)</pre></div></div></div></div></div>"
            ]
          },
          "metadata": {},
          "execution_count": 35
        }
      ]
    },
    {
      "cell_type": "code",
      "source": [
        "preds = rf.predict(test[predictors])"
      ],
      "metadata": {
        "id": "_yLYluYe2Lgl"
      },
      "execution_count": null,
      "outputs": []
    },
    {
      "cell_type": "code",
      "source": [
        "from sklearn.metrics import accuracy_score"
      ],
      "metadata": {
        "id": "9gV-VgJr2SZr"
      },
      "execution_count": null,
      "outputs": []
    },
    {
      "cell_type": "code",
      "source": [
        "acc = accuracy_score(test[\"target\"], preds)"
      ],
      "metadata": {
        "id": "eL2QA1p12Xfq"
      },
      "execution_count": null,
      "outputs": []
    },
    {
      "cell_type": "code",
      "source": [
        "acc"
      ],
      "metadata": {
        "id": "PaiALiNL2vWb"
      },
      "execution_count": null,
      "outputs": []
    },
    {
      "cell_type": "code",
      "source": [
        "combined = pd.DataFrame(dict(actual = test[\"target\"], prediction=preds))"
      ],
      "metadata": {
        "id": "X8e8zgGW2wQF"
      },
      "execution_count": null,
      "outputs": []
    },
    {
      "cell_type": "code",
      "source": [
        "pd.crosstab(index = combined[\"actual\"], columns = combined[\"prediction\"])"
      ],
      "metadata": {
        "id": "abg42Yj226h3"
      },
      "execution_count": null,
      "outputs": []
    },
    {
      "cell_type": "code",
      "source": [
        "from sklearn.metrics import precision_score"
      ],
      "metadata": {
        "id": "3whXcOtB3Oad"
      },
      "execution_count": null,
      "outputs": []
    },
    {
      "cell_type": "code",
      "source": [
        "precision_score(test[\"target\"], preds)"
      ],
      "metadata": {
        "colab": {
          "base_uri": "https://localhost:8080/"
        },
        "id": "SR1wS4Eb3gjx",
        "outputId": "e3bd3e4d-8d67-4981-f52e-207b3a6cca01"
      },
      "execution_count": null,
      "outputs": [
        {
          "output_type": "execute_result",
          "data": {
            "text/plain": [
              "0.4904632152588556"
            ]
          },
          "metadata": {},
          "execution_count": 45
        }
      ]
    },
    {
      "cell_type": "code",
      "source": [
        "grouped_matches = matches.groupby(\"team\")"
      ],
      "metadata": {
        "id": "_jRpy_8m3liv"
      },
      "execution_count": null,
      "outputs": []
    },
    {
      "cell_type": "code",
      "source": [
        "group = grouped_matches.get_group(\"Chelsea\")"
      ],
      "metadata": {
        "id": "k1detTLy34MK"
      },
      "execution_count": null,
      "outputs": []
    },
    {
      "cell_type": "code",
      "source": [
        "group"
      ],
      "metadata": {
        "id": "KzK296So3-Nd"
      },
      "execution_count": null,
      "outputs": []
    },
    {
      "cell_type": "code",
      "source": [
        "def rolling_averages(group,cols,new_cols):\n",
        "  group = group.sort_values(\"date\")\n",
        "  rolling_stats = group[cols].rolling(3,closed=\"left\").mean()\n",
        "  group[new_cols] = rolling_stats\n",
        "  group = group.dropna(subset=new_cols)\n",
        "  return group"
      ],
      "metadata": {
        "id": "LOJN1ffp3_VL"
      },
      "execution_count": null,
      "outputs": []
    },
    {
      "cell_type": "code",
      "source": [
        "cols = [\"gf\", \"ga\", \"sh\", \"sot\", \"dist\", \"fk\", \"pk\", \"pkatt\"]"
      ],
      "metadata": {
        "id": "VMUlnWHS4xIb"
      },
      "execution_count": null,
      "outputs": []
    },
    {
      "cell_type": "code",
      "source": [
        "new_cols = [f\"{c}_rolling\" for c in cols]"
      ],
      "metadata": {
        "id": "QKQuMm_I4061"
      },
      "execution_count": null,
      "outputs": []
    },
    {
      "cell_type": "code",
      "source": [
        "new_cols"
      ],
      "metadata": {
        "id": "qVBN9w9w5BLG"
      },
      "execution_count": null,
      "outputs": []
    },
    {
      "cell_type": "code",
      "source": [
        "rolling_averages(group,cols,new_cols)"
      ],
      "metadata": {
        "id": "ZnbWVxor5EkQ"
      },
      "execution_count": null,
      "outputs": []
    },
    {
      "cell_type": "code",
      "source": [
        "matches_rolling = matches.groupby(\"team\").apply(lambda x: rolling_averages(x, cols,new_cols))"
      ],
      "metadata": {
        "id": "JrLlzwDl5MWt"
      },
      "execution_count": null,
      "outputs": []
    },
    {
      "cell_type": "code",
      "source": [
        "matches_rolling"
      ],
      "metadata": {
        "id": "kZC8_vz_54JI"
      },
      "execution_count": null,
      "outputs": []
    },
    {
      "cell_type": "code",
      "source": [
        "matches_rolling.droplevel(\"team\")"
      ],
      "metadata": {
        "id": "6V7Yep-655q1"
      },
      "execution_count": null,
      "outputs": []
    },
    {
      "cell_type": "code",
      "source": [
        "matches_rolling.index = range(matches_rolling.shape[0])"
      ],
      "metadata": {
        "id": "iJ83dfKn6Tsj"
      },
      "execution_count": null,
      "outputs": []
    },
    {
      "cell_type": "code",
      "source": [
        "matches_rolling"
      ],
      "metadata": {
        "id": "_NP37J7v6hsJ"
      },
      "execution_count": null,
      "outputs": []
    },
    {
      "cell_type": "code",
      "source": [
        "def make_predictions(data,predictors):\n",
        "  train = data[data[\"date\"] < '2022-01-01']\n",
        "  test = data[data[\"date\"] > '2022-01-01']\n",
        "  rf.fit(train[predictors], train[\"target\"])\n",
        "  preds = rf.predict(test[predictors])\n",
        "  combined = pd.DataFrame(dict(actual = test[\"target\"], predicted = preds), index = test.index)\n",
        "  precision = precision_score(test[\"target\"], preds)\n",
        "  return combined,precision\n"
      ],
      "metadata": {
        "id": "d_vjBbD16jWV"
      },
      "execution_count": null,
      "outputs": []
    },
    {
      "cell_type": "code",
      "source": [
        "combined, precision = make_predictions(matches_rolling, predictors + new_cols)"
      ],
      "metadata": {
        "id": "p0UzsR9w7U_8"
      },
      "execution_count": null,
      "outputs": []
    },
    {
      "cell_type": "code",
      "source": [
        "precision"
      ],
      "metadata": {
        "id": "G2sKrcen7xvS"
      },
      "execution_count": null,
      "outputs": []
    },
    {
      "cell_type": "code",
      "source": [
        "combined"
      ],
      "metadata": {
        "id": "cg6hMX-58z9a"
      },
      "execution_count": null,
      "outputs": []
    },
    {
      "cell_type": "code",
      "source": [
        "combined = combined.merge(matches_rolling[[\"date\", \"team\", \"opponent\", \"result\"]], left_index = True, right_index=True)"
      ],
      "metadata": {
        "id": "aC5h9q7_81yq"
      },
      "execution_count": null,
      "outputs": []
    },
    {
      "cell_type": "code",
      "source": [
        "combined"
      ],
      "metadata": {
        "id": "-bvpTUBF9d0h"
      },
      "execution_count": null,
      "outputs": []
    },
    {
      "cell_type": "code",
      "source": [
        "class MissingDict(dict):\n",
        "  __missing__ = lambda self,key: key\n",
        "\n",
        "map_values = {\n",
        "    \"Brighton and Hove Albion\": \"Brighton\",\n",
        "    \"Manchester United\": \"Manchester Utd\",\n",
        "    \"Newcastle United\": \"Newcastle Utd\",\n",
        "    \"Tottenham Hotspur\": \"Tottenham\",\n",
        "    \"West Ham United\": \"West Ham\",\n",
        "    \"Wolverhampton Wanderers\": \"Wolves\"\n",
        "}\n",
        "\n",
        "mapping = MissingDict(**map_values)"
      ],
      "metadata": {
        "id": "DfS881IZ9fe6"
      },
      "execution_count": null,
      "outputs": []
    },
    {
      "cell_type": "code",
      "source": [
        "mapping[\"West Ham United\"]"
      ],
      "metadata": {
        "id": "pZ7tmb4y-bTh"
      },
      "execution_count": null,
      "outputs": []
    },
    {
      "cell_type": "code",
      "source": [
        "combined[\"new_team\"] = combined[\"team\"].map(mapping)"
      ],
      "metadata": {
        "id": "th7ezGRD-fL3"
      },
      "execution_count": null,
      "outputs": []
    },
    {
      "cell_type": "code",
      "source": [
        "combined"
      ],
      "metadata": {
        "id": "WOBYicgu-st7"
      },
      "execution_count": null,
      "outputs": []
    },
    {
      "cell_type": "code",
      "source": [
        "merged = combined.merge(combined, left_on = [\"date\", \"new_team\"], right_on = [\"date\", \"opponent\"])"
      ],
      "metadata": {
        "id": "e2gNuU9A-tj4"
      },
      "execution_count": null,
      "outputs": []
    },
    {
      "cell_type": "code",
      "source": [
        "merged"
      ],
      "metadata": {
        "id": "e8CG_Pjd-8nS"
      },
      "execution_count": null,
      "outputs": []
    },
    {
      "cell_type": "code",
      "source": [
        "merged[(merged[\"predicted_x\"] == 1) & (merged[\"predicted_y\"] == 0)][\"actual_x\"].value_counts()"
      ],
      "metadata": {
        "colab": {
          "base_uri": "https://localhost:8080/"
        },
        "id": "237Owm_C-9QP",
        "outputId": "32792e9c-b688-48f8-b3a6-7e6d0f2a6a77"
      },
      "execution_count": null,
      "outputs": [
        {
          "output_type": "execute_result",
          "data": {
            "text/plain": [
              "1    170\n",
              "0     99\n",
              "Name: actual_x, dtype: int64"
            ]
          },
          "metadata": {},
          "execution_count": 90
        }
      ]
    },
    {
      "cell_type": "code",
      "source": [
        "170/(280)"
      ],
      "metadata": {
        "colab": {
          "base_uri": "https://localhost:8080/"
        },
        "id": "j1Rw4ovc_YYd",
        "outputId": "89cccfd0-1904-4374-8cfa-9c2b796e32e6"
      },
      "execution_count": null,
      "outputs": [
        {
          "output_type": "execute_result",
          "data": {
            "text/plain": [
              "0.6071428571428571"
            ]
          },
          "metadata": {},
          "execution_count": 91
        }
      ]
    },
    {
      "cell_type": "code",
      "source": [],
      "metadata": {
        "id": "aFbFcjua_4lb"
      },
      "execution_count": null,
      "outputs": []
    }
  ]
}